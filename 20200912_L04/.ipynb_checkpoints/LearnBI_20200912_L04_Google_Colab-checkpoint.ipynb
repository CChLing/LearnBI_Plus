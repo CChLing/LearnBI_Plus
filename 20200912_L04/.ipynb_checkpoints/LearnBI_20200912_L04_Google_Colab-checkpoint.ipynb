{
  "nbformat": 4,
  "nbformat_minor": 0,
  "metadata": {
    "colab": {
      "name": "LearnBI_20200912_L04.ipynb",
      "provenance": [],
      "toc_visible": true
    },
    "kernelspec": {
      "name": "python3",
      "display_name": "Python 3"
    },
    "accelerator": "GPU"
  },
  "cells": [
    {
      "cell_type": "markdown",
      "metadata": {
        "id": "FoF1i5723uQa",
        "colab_type": "text"
      },
      "source": [
        "# 使用 GOOGLE Colab 和MovieLens数据集进行推荐"
      ]
    },
    {
      "cell_type": "code",
      "metadata": {
        "id": "GDUJHd_ilquk",
        "colab_type": "code",
        "colab": {}
      },
      "source": [
        "# 安装kaggle\n",
        "!pip install -U -q kaggle"
      ],
      "execution_count": 1,
      "outputs": []
    },
    {
      "cell_type": "code",
      "metadata": {
        "id": "B-CBMEn3mBHt",
        "colab_type": "code",
        "colab": {}
      },
      "source": [
        "# 创建kaggle.json\n",
        "!mkdir 0p ~/.kaggle\n",
        "!echo '{\"username\":\"masterlinwang\",\"key\":\"f4927e0ba6482c1a733001e1e342db26\"}' > ~/.kaggle/kaggle.json\n",
        "!chmod 600 ~/.kaggle/kaggle.json"
      ],
      "execution_count": 2,
      "outputs": []
    },
    {
      "cell_type": "code",
      "metadata": {
        "id": "aIZUjkDWnwPF",
        "colab_type": "code",
        "colab": {}
      },
      "source": [
        "# 设置数据集文件夹\n",
        "!mkdir -p movielens_data"
      ],
      "execution_count": 3,
      "outputs": []
    },
    {
      "cell_type": "code",
      "metadata": {
        "id": "L74PDtM0n8Kq",
        "colab_type": "code",
        "colab": {
          "base_uri": "https://localhost:8080/",
          "height": 71
        },
        "outputId": "80c87183-ba6e-4e8d-b1a7-7021f787b6da"
      },
      "source": [
        "# 下载数据\n",
        "!kaggle datasets download -d jneupane12/movielens -p movielens_data"
      ],
      "execution_count": 4,
      "outputs": [
        {
          "output_type": "stream",
          "text": [
            "Downloading movielens.zip to movielens_data\n",
            "\r  0% 0.00/11.9M [00:00<?, ?B/s]\r 42% 5.00M/11.9M [00:00<00:00, 36.4MB/s]\n",
            "\r100% 11.9M/11.9M [00:00<00:00, 58.5MB/s]\n"
          ],
          "name": "stdout"
        }
      ]
    },
    {
      "cell_type": "code",
      "metadata": {
        "id": "DKMvUGQWoH6e",
        "colab_type": "code",
        "colab": {
          "base_uri": "https://localhost:8080/",
          "height": 125
        },
        "outputId": "1b19262a-5be5-4cc3-ba02-19981bf1cf8c"
      },
      "source": [
        "!unzip ./movielens_data/movielens.zip -d data"
      ],
      "execution_count": 5,
      "outputs": [
        {
          "output_type": "stream",
          "text": [
            "Archive:  ./movielens_data/movielens.zip\n",
            "  inflating: data/README.txt         \n",
            "  inflating: data/links.csv          \n",
            "  inflating: data/movies.csv         \n",
            "  inflating: data/ratings.csv        \n",
            "  inflating: data/tags.csv           \n"
          ],
          "name": "stdout"
        }
      ]
    },
    {
      "cell_type": "code",
      "metadata": {
        "id": "ySvZsByqoaWA",
        "colab_type": "code",
        "colab": {
          "base_uri": "https://localhost:8080/",
          "height": 305
        },
        "outputId": "2438ab5c-a00a-417a-b9ad-8fd461d9c907"
      },
      "source": [
        "!pip install surprise"
      ],
      "execution_count": 6,
      "outputs": [
        {
          "output_type": "stream",
          "text": [
            "Collecting surprise\n",
            "  Downloading https://files.pythonhosted.org/packages/61/de/e5cba8682201fcf9c3719a6fdda95693468ed061945493dea2dd37c5618b/surprise-0.1-py2.py3-none-any.whl\n",
            "Collecting scikit-surprise\n",
            "\u001b[?25l  Downloading https://files.pythonhosted.org/packages/97/37/5d334adaf5ddd65da99fc65f6507e0e4599d092ba048f4302fe8775619e8/scikit-surprise-1.1.1.tar.gz (11.8MB)\n",
            "\u001b[K     |████████████████████████████████| 11.8MB 331kB/s \n",
            "\u001b[?25hRequirement already satisfied: joblib>=0.11 in /usr/local/lib/python3.6/dist-packages (from scikit-surprise->surprise) (0.16.0)\n",
            "Requirement already satisfied: numpy>=1.11.2 in /usr/local/lib/python3.6/dist-packages (from scikit-surprise->surprise) (1.18.5)\n",
            "Requirement already satisfied: scipy>=1.0.0 in /usr/local/lib/python3.6/dist-packages (from scikit-surprise->surprise) (1.4.1)\n",
            "Requirement already satisfied: six>=1.10.0 in /usr/local/lib/python3.6/dist-packages (from scikit-surprise->surprise) (1.15.0)\n",
            "Building wheels for collected packages: scikit-surprise\n",
            "  Building wheel for scikit-surprise (setup.py) ... \u001b[?25l\u001b[?25hdone\n",
            "  Created wheel for scikit-surprise: filename=scikit_surprise-1.1.1-cp36-cp36m-linux_x86_64.whl size=1670922 sha256=2fb1c48e7f76ddfe910da6a48cf7da9cecb77b5e44a6208da6a977ee82a6ad2a\n",
            "  Stored in directory: /root/.cache/pip/wheels/78/9c/3d/41b419c9d2aff5b6e2b4c0fc8d25c538202834058f9ed110d0\n",
            "Successfully built scikit-surprise\n",
            "Installing collected packages: scikit-surprise, surprise\n",
            "Successfully installed scikit-surprise-1.1.1 surprise-0.1\n"
          ],
          "name": "stdout"
        }
      ]
    },
    {
      "cell_type": "code",
      "metadata": {
        "id": "_wDC5tjUqRfh",
        "colab_type": "code",
        "colab": {}
      },
      "source": [
        "from surprise import Reader, Dataset\n",
        "from surprise import SVD, SVDpp\n",
        "from surprise.model_selection import KFold\n",
        "from surprise import accuracy"
      ],
      "execution_count": 7,
      "outputs": []
    },
    {
      "cell_type": "code",
      "metadata": {
        "id": "25e07dQlp9Qe",
        "colab_type": "code",
        "colab": {}
      },
      "source": [
        "# 数据读取\n",
        "reader = Reader(line_format='user item rating timestamp', sep=',', skip_lines=1)\n",
        "data = Dataset.load_from_file('data/ratings.csv', reader=reader)\n",
        "train_set = data.build_full_trainset()"
      ],
      "execution_count": 8,
      "outputs": []
    },
    {
      "cell_type": "markdown",
      "metadata": {
        "id": "xX6sCy61sRrN",
        "colab_type": "text"
      },
      "source": [
        "使用funkSVD"
      ]
    },
    {
      "cell_type": "code",
      "metadata": {
        "id": "ssKlO_LAqM1J",
        "colab_type": "code",
        "colab": {}
      },
      "source": [
        "# 使用funkSVD\n",
        "algo1 = SVD(biased=False)"
      ],
      "execution_count": 9,
      "outputs": []
    },
    {
      "cell_type": "code",
      "metadata": {
        "id": "BdbK8So1rdGe",
        "colab_type": "code",
        "colab": {
          "base_uri": "https://localhost:8080/",
          "height": 71
        },
        "outputId": "aa6e7608-0628-4b01-e60b-717814023b0a"
      },
      "source": [
        "# 定义K折交叉验证迭代器，K=3\n",
        "kf = KFold(n_splits=3)\n",
        "for trainset, testset in kf.split(data):\n",
        "    # 训练并预测\n",
        "    algo1.fit(trainset)\n",
        "    predictions = algo1.test(testset)\n",
        "    # 计算RMSE\n",
        "    accuracy.rmse(predictions, verbose=True)"
      ],
      "execution_count": 10,
      "outputs": [
        {
          "output_type": "stream",
          "text": [
            "RMSE: 0.8705\n",
            "RMSE: 0.8721\n",
            "RMSE: 0.8720\n"
          ],
          "name": "stdout"
        }
      ]
    },
    {
      "cell_type": "markdown",
      "metadata": {
        "id": "TtMv75OEsZ-s",
        "colab_type": "text"
      },
      "source": [
        "### 使用SVD"
      ]
    },
    {
      "cell_type": "code",
      "metadata": {
        "id": "TaylUpXOredA",
        "colab_type": "code",
        "colab": {}
      },
      "source": [
        "# 使用SVD\n",
        "algo2 = SVD(biased=False)"
      ],
      "execution_count": 11,
      "outputs": []
    },
    {
      "cell_type": "code",
      "metadata": {
        "id": "mlM27xxHro2d",
        "colab_type": "code",
        "colab": {
          "base_uri": "https://localhost:8080/",
          "height": 71
        },
        "outputId": "76ede828-33af-4de8-d8b9-d45d793d4b16"
      },
      "source": [
        "# 定义K折交叉验证迭代器，K=3\n",
        "kf = KFold(n_splits=3)\n",
        "for trainset, testset in kf.split(data):\n",
        "    # 训练并预测\n",
        "    algo2.fit(trainset)\n",
        "    predictions = algo2.test(testset)\n",
        "    # 计算RMSE\n",
        "    accuracy.rmse(predictions, verbose=True)"
      ],
      "execution_count": 12,
      "outputs": [
        {
          "output_type": "stream",
          "text": [
            "RMSE: 0.8713\n",
            "RMSE: 0.8721\n",
            "RMSE: 0.8731\n"
          ],
          "name": "stdout"
        }
      ]
    },
    {
      "cell_type": "markdown",
      "metadata": {
        "id": "cW5-NkR3socG",
        "colab_type": "text"
      },
      "source": [
        "### 使用SVD++"
      ]
    },
    {
      "cell_type": "code",
      "metadata": {
        "id": "YUPak0QirwKE",
        "colab_type": "code",
        "colab": {}
      },
      "source": [
        "# 使用SVD++\n",
        "algo3 = SVD(biased=False)"
      ],
      "execution_count": 13,
      "outputs": []
    },
    {
      "cell_type": "code",
      "metadata": {
        "id": "t_OcOT9Wrz3g",
        "colab_type": "code",
        "colab": {
          "base_uri": "https://localhost:8080/",
          "height": 71
        },
        "outputId": "70c31b28-41d3-4455-a2c6-5a817cccd0bd"
      },
      "source": [
        "# 定义K折交叉验证迭代器，K=3\n",
        "kf = KFold(n_splits=3)\n",
        "for trainset, testset in kf.split(data):\n",
        "    # 训练并预测\n",
        "    algo3.fit(trainset)\n",
        "    predictions = algo3.test(testset)\n",
        "    # 计算RMSE\n",
        "    accuracy.rmse(predictions, verbose=True)"
      ],
      "execution_count": 14,
      "outputs": [
        {
          "output_type": "stream",
          "text": [
            "RMSE: 0.8735\n",
            "RMSE: 0.8727\n",
            "RMSE: 0.8696\n"
          ],
          "name": "stdout"
        }
      ]
    },
    {
      "cell_type": "code",
      "metadata": {
        "id": "ldevLv5du7-N",
        "colab_type": "code",
        "colab": {
          "base_uri": "https://localhost:8080/",
          "height": 251
        },
        "outputId": "fe320a3d-933a-45df-c278-7cb9dc49b3ce"
      },
      "source": [
        "!pip install deepctr"
      ],
      "execution_count": 16,
      "outputs": [
        {
          "output_type": "stream",
          "text": [
            "Collecting deepctr\n",
            "\u001b[?25l  Downloading https://files.pythonhosted.org/packages/8e/27/5eb51503413cfb057c7f232f0bb77cecda043ae2d9d6868727790cd135db/deepctr-0.8.1-py3-none-any.whl (110kB)\n",
            "\r\u001b[K     |███                             | 10kB 16.9MB/s eta 0:00:01\r\u001b[K     |██████                          | 20kB 4.3MB/s eta 0:00:01\r\u001b[K     |█████████                       | 30kB 5.6MB/s eta 0:00:01\r\u001b[K     |███████████▉                    | 40kB 5.8MB/s eta 0:00:01\r\u001b[K     |██████████████▉                 | 51kB 5.0MB/s eta 0:00:01\r\u001b[K     |█████████████████▉              | 61kB 5.5MB/s eta 0:00:01\r\u001b[K     |████████████████████▊           | 71kB 6.0MB/s eta 0:00:01\r\u001b[K     |███████████████████████▊        | 81kB 6.5MB/s eta 0:00:01\r\u001b[K     |██████████████████████████▊     | 92kB 6.9MB/s eta 0:00:01\r\u001b[K     |█████████████████████████████▋  | 102kB 6.9MB/s eta 0:00:01\r\u001b[K     |████████████████████████████████| 112kB 6.9MB/s \n",
            "\u001b[?25hRequirement already satisfied: h5py in /usr/local/lib/python3.6/dist-packages (from deepctr) (2.10.0)\n",
            "Requirement already satisfied: requests in /usr/local/lib/python3.6/dist-packages (from deepctr) (2.23.0)\n",
            "Requirement already satisfied: six in /usr/local/lib/python3.6/dist-packages (from h5py->deepctr) (1.15.0)\n",
            "Requirement already satisfied: numpy>=1.7 in /usr/local/lib/python3.6/dist-packages (from h5py->deepctr) (1.18.5)\n",
            "Requirement already satisfied: certifi>=2017.4.17 in /usr/local/lib/python3.6/dist-packages (from requests->deepctr) (2020.6.20)\n",
            "Requirement already satisfied: chardet<4,>=3.0.2 in /usr/local/lib/python3.6/dist-packages (from requests->deepctr) (3.0.4)\n",
            "Requirement already satisfied: idna<3,>=2.5 in /usr/local/lib/python3.6/dist-packages (from requests->deepctr) (2.10)\n",
            "Requirement already satisfied: urllib3!=1.25.0,!=1.25.1,<1.26,>=1.21.1 in /usr/local/lib/python3.6/dist-packages (from requests->deepctr) (1.24.3)\n",
            "Installing collected packages: deepctr\n",
            "Successfully installed deepctr-0.8.1\n"
          ],
          "name": "stdout"
        }
      ]
    },
    {
      "cell_type": "code",
      "metadata": {
        "id": "GOHwRiGesIkY",
        "colab_type": "code",
        "colab": {}
      },
      "source": [
        "import pandas as pd\n",
        "from sklearn.metrics import mean_squared_error\n",
        "from sklearn.model_selection import train_test_split\n",
        "from sklearn.preprocessing import LabelEncoder\n",
        "\n",
        "from deepctr.models import DeepFM, xDeepFM\n",
        "from deepctr.feature_column import SparseFeat,get_feature_names"
      ],
      "execution_count": 17,
      "outputs": []
    },
    {
      "cell_type": "code",
      "metadata": {
        "id": "FynGDsKbu6N0",
        "colab_type": "code",
        "colab": {}
      },
      "source": [
        "# 加载数据集\n",
        "data = pd.read_csv(\"data/ratings.csv\")\n",
        "sparse_features = [\"userId\", \"movieId\", 'timestamp']\n",
        "target = ['rating']"
      ],
      "execution_count": 18,
      "outputs": []
    },
    {
      "cell_type": "code",
      "metadata": {
        "id": "701_pVThwIT6",
        "colab_type": "code",
        "colab": {}
      },
      "source": [
        "# 对特征标签进行编码\n",
        "for feature in sparse_features:\n",
        "    lbe = LabelEncoder()\n",
        "    data[feature] = lbe.fit_transform(data[feature])"
      ],
      "execution_count": 19,
      "outputs": []
    },
    {
      "cell_type": "code",
      "metadata": {
        "id": "1KX5iRpFveyZ",
        "colab_type": "code",
        "colab": {}
      },
      "source": [
        "# 计算每个特征中的 不同特征值的个数\n",
        "fixlen_feature_columns = [SparseFeat(feature, data[feature].nunique()) for feature in sparse_features]\n",
        "linear_feature_columns = fixlen_feature_columns\n",
        "dnn_feature_columns = fixlen_feature_columns\n",
        "feature_names = get_feature_names(linear_feature_columns + dnn_feature_columns)"
      ],
      "execution_count": 20,
      "outputs": []
    },
    {
      "cell_type": "code",
      "metadata": {
        "id": "iR3hkChDwO9j",
        "colab_type": "code",
        "colab": {}
      },
      "source": [
        "# 将数据集切分成训练集和测试集\n",
        "train, test = train_test_split(data, test_size=0.2)\n",
        "train_model_input = {name:train[name].values for name in feature_names}\n",
        "test_model_input = {name:test[name].values for name in feature_names}"
      ],
      "execution_count": 21,
      "outputs": []
    },
    {
      "cell_type": "markdown",
      "metadata": {
        "id": "qUA8mZDVyFoq",
        "colab_type": "text"
      },
      "source": [
        "### 使用DeepFM进行模型训练和预测"
      ]
    },
    {
      "cell_type": "code",
      "metadata": {
        "id": "lK_5mfc-wQpx",
        "colab_type": "code",
        "colab": {
          "base_uri": "https://localhost:8080/",
          "height": 71
        },
        "outputId": "1c57e766-0e8c-43ed-9906-54d5acd32c20"
      },
      "source": [
        "# 使用DeepFM进行训练\n",
        "model = DeepFM(linear_feature_columns, dnn_feature_columns, task='regression')\n",
        "model.compile(\"adam\", \"mse\", metrics=['mse'] )\n",
        "history = model.fit(train_model_input, train[target].values, batch_size=256, epochs=1, verbose=True, validation_split=0.2 )"
      ],
      "execution_count": 22,
      "outputs": [
        {
          "output_type": "stream",
          "text": [
            "/usr/local/lib/python3.6/dist-packages/tensorflow/python/framework/indexed_slices.py:432: UserWarning: Converting sparse IndexedSlices to a dense Tensor of unknown shape. This may consume a large amount of memory.\n",
            "  \"Converting sparse IndexedSlices to a dense Tensor of unknown shape. \"\n"
          ],
          "name": "stderr"
        },
        {
          "output_type": "stream",
          "text": [
            "2622/2622 [==============================] - 88s 34ms/step - loss: 0.9448 - mse: 0.9385 - val_loss: 0.7621 - val_mse: 0.7490\n"
          ],
          "name": "stdout"
        }
      ]
    },
    {
      "cell_type": "code",
      "metadata": {
        "id": "dQOnziaRwUcY",
        "colab_type": "code",
        "colab": {}
      },
      "source": [
        "# 使用DeepFM进行预测\n",
        "pred_ans = model.predict(test_model_input, batch_size=256)"
      ],
      "execution_count": 23,
      "outputs": []
    },
    {
      "cell_type": "code",
      "metadata": {
        "id": "MU_iPV9fwc-R",
        "colab_type": "code",
        "colab": {
          "base_uri": "https://localhost:8080/",
          "height": 35
        },
        "outputId": "d30aa9ec-8edc-4498-84dc-6788dff0f6fc"
      },
      "source": [
        "# 输出RMSE或MSE\n",
        "mse = round(mean_squared_error(test[target].values, pred_ans), 4)\n",
        "rmse = mse ** 0.5\n",
        "print(\"test RMSE\", rmse)"
      ],
      "execution_count": 24,
      "outputs": [
        {
          "output_type": "stream",
          "text": [
            "test RMSE 0.8626123115281858\n"
          ],
          "name": "stdout"
        }
      ]
    },
    {
      "cell_type": "markdown",
      "metadata": {
        "id": "aOfznUMbyO7u",
        "colab_type": "text"
      },
      "source": [
        "### 使用xDeepFM进行模型训练和预测"
      ]
    },
    {
      "cell_type": "code",
      "metadata": {
        "id": "nSfLBDZEyV-x",
        "colab_type": "code",
        "colab": {
          "base_uri": "https://localhost:8080/",
          "height": 71
        },
        "outputId": "86f3a065-d18d-45c9-b1a3-cc3654ff51fa"
      },
      "source": [
        "# 使用xDeepFM进行训练\n",
        "model2 = xDeepFM(linear_feature_columns, dnn_feature_columns, task='regression')\n",
        "model2.compile(\"adam\", \"mse\", metrics=['mse'] )\n",
        "history = model2.fit(train_model_input, train[target].values, batch_size=256, epochs=1, verbose=True, validation_split=0.2 )"
      ],
      "execution_count": 25,
      "outputs": [
        {
          "output_type": "stream",
          "text": [
            "/usr/local/lib/python3.6/dist-packages/tensorflow/python/framework/indexed_slices.py:432: UserWarning: Converting sparse IndexedSlices to a dense Tensor of unknown shape. This may consume a large amount of memory.\n",
            "  \"Converting sparse IndexedSlices to a dense Tensor of unknown shape. \"\n"
          ],
          "name": "stderr"
        },
        {
          "output_type": "stream",
          "text": [
            "2622/2622 [==============================] - 94s 36ms/step - loss: 0.8711 - mse: 0.8648 - val_loss: 0.7535 - val_mse: 0.7403\n"
          ],
          "name": "stdout"
        }
      ]
    },
    {
      "cell_type": "code",
      "metadata": {
        "id": "wxTYEIXNyfwQ",
        "colab_type": "code",
        "colab": {}
      },
      "source": [
        "# 使用xDeepFM进行预测\n",
        "pred_ans = model2.predict(test_model_input, batch_size=256)"
      ],
      "execution_count": 26,
      "outputs": []
    },
    {
      "cell_type": "code",
      "metadata": {
        "id": "67mh_VBbyioA",
        "colab_type": "code",
        "colab": {
          "base_uri": "https://localhost:8080/",
          "height": 35
        },
        "outputId": "b98ce748-8394-4973-eccb-e1e8c8f978ca"
      },
      "source": [
        "# 输出RMSE或MSE\n",
        "mse = round(mean_squared_error(test[target].values, pred_ans), 4)\n",
        "rmse = mse ** 0.5\n",
        "print(\"test RMSE\", rmse)"
      ],
      "execution_count": 27,
      "outputs": [
        {
          "output_type": "stream",
          "text": [
            "test RMSE 0.8576129663198896\n"
          ],
          "name": "stdout"
        }
      ]
    },
    {
      "cell_type": "code",
      "metadata": {
        "id": "uthn5R__3RLn",
        "colab_type": "code",
        "colab": {}
      },
      "source": [
        ""
      ],
      "execution_count": null,
      "outputs": []
    }
  ]
}