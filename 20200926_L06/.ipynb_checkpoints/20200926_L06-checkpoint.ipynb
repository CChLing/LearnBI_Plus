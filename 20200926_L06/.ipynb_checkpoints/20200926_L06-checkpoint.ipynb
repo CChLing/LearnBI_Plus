{
 "cells": [
  {
   "cell_type": "markdown",
   "metadata": {},
   "source": [
    "# 导师制名企实训班商业智能方向 004期 Lesson 6"
   ]
  },
  {
   "cell_type": "markdown",
   "metadata": {},
   "source": [
    "### Thinking 1: 什么是近似最近邻查找，常用的方法有哪些"
   ]
  },
  {
   "cell_type": "markdown",
   "metadata": {},
   "source": [
    "近似最近邻检索是在牺牲可接受范围内的精度的情况下提高检索效果，最近邻检索是线性复杂度的，当处理大规模数据时有优势。  \n",
    "有两种比较流行的方法：树方法和哈希方法  \n",
    "\n",
    "<b>精确检索：</b>基于树结构的最近邻检索方法\n",
    "索引树就是最常见的方法。其基本思想是对搜索空间进行层次划分，再进行快速匹配。当数据维度不太高（如d< 20)，通常采用树型索引结构对数据进行分区以实现高效索引，如最经典的KD树算法 、R树、M树等等，它们的时间和空间复杂度都是以d为指数的指数级别的，在实际搜索时也取得了良好的效果。\n",
    "* 基于树的方法的一些特点：  \n",
    "1. 递归了划分数据：分而治之。  \n",
    "2. 查询时间为：$O(log n) $\n",
    "3. 随着数据维数的增加，基于树的ANN其表现性能会急剧的下降。  \n",
    "4. 需要的存储开销很大，因为需要存储树结构。  \n",
    "5. 在运行的时候，需要保存原始数据。同样会增加内存的开销。  \n",
    "\n",
    "<b>近似检索：</b>基于哈希散列的方法和基于矢量量化方法  \n",
    "搜索可能是近邻的数据项而不再只局限于返回最可能的项目，在牺牲可接受范围内的精度的情况下提高检索效率。\n",
    "* 哈希方法的一些特点：\n",
    "1. 数据库中的每一个item都被用一个编码来表达。\n",
    "2. 可以极大的降低内存空间。  \n",
    "3. 查询时间为：$ O(1) $或是线性的。  \n",
    "\n",
    "哈希方法包括：局部敏感哈希Locality-Sensitive Hashing（LSH）方法：在高维空间相邻的数据经过哈希函数的映射投影转化到低维空间后，他们落入同一个吊桶的概率很大而不相邻的数据映射到同一个吊桶的概率则很小。在检索时将欧式空间的距离计算转化到汉明（Hamming）空间，并将全局检索转化为对映射到同一个吊桶中的数据进行检索，从而提高了检索速度。这种方法的主要难点在于如何寻找适合的哈希函数。  \n",
    "矢量量化方法：其代表是乘积量化（PQ）：将特征向量进行正交分解，在分解后的低维正交子空间上进行量化，由于低维空间可以采用较小的码本进行编码，因此可以降低数据存储空间 。"
   ]
  },
  {
   "cell_type": "markdown",
   "metadata": {},
   "source": [
    "### Thinking 2: 为什么两个集合的minhash值相同的概率等于这两个集合的Jaccard相似度"
   ]
  },
  {
   "cell_type": "markdown",
   "metadata": {},
   "source": [
    "两个文档$i$和B$j$的MinHash值相同的概率  \n",
    "A = 两列值都为1的个数  \n",
    "B = 其中一列值为1的个数  \n",
    "$$P(h(C_i)=h(C_j))=\\frac{A}{A+B}$$   \n",
    "而Jaccard相似度也等于  \n",
    "$$\\frac{A}{A+B}$$"
   ]
  },
  {
   "cell_type": "markdown",
   "metadata": {},
   "source": [
    "### Thinking 3： SimHash在计算文档相似度的作用是怎样的？"
   ]
  },
  {
   "cell_type": "markdown",
   "metadata": {},
   "source": [
    "SimHash算法高效，适用于长文本和数据量大的数据集。SimHash在计算文档相似度的作用是生成文档的指纹，相当于提取了文档的特征。一篇文章通过SimHash算法计算出其指纹，之后可以通过计算Hamming距离来计算不同文档之间的相似度。"
   ]
  },
  {
   "cell_type": "markdown",
   "metadata": {},
   "source": [
    "### Thinking 4： 为什么YouTube采用期望观看时间作为评估指标"
   ]
  },
  {
   "cell_type": "markdown",
   "metadata": {},
   "source": [
    "YouTube是个视频网站，在YouTube上如果只使用是否点击视频为评估指标是不准确的，可能存在有些视频点开看了很短时间发现不是自己喜欢的食品就关闭了，所以采用期望观看时间作为评价指标更为合理。此外，个人认为有另外一个原因，YouTube上的很多视频中是内嵌广告的，而且广告在视频内的时间点是不同的，这样的话只有推荐给用户的视频是期望观看时间长的视频才能达到尽可能大的收益。"
   ]
  },
  {
   "cell_type": "markdown",
   "metadata": {},
   "source": [
    "### Action 1： 使用MinHashLSHForest对微博新闻句子进行检索\n",
    "weibo.txt  \n",
    "针对某句话进行Query，查找Top-3相似的句子"
   ]
  },
  {
   "cell_type": "code",
   "execution_count": 1,
   "metadata": {},
   "outputs": [],
   "source": [
    "# 对weibo.txt进行相似句子Top-K查询\n",
    "from datasketch import MinHash, MinHashLSHForest\n",
    "import jieba.posseg as pseg\n",
    "import re"
   ]
  },
  {
   "cell_type": "code",
   "execution_count": 2,
   "metadata": {},
   "outputs": [
    {
     "data": {
      "text/plain": [
       "'#斯科拉里愿意执教国足#上一届如果是里皮从头芾到尾，是很大机会入世界杯的，这一届，没几个能用的，除非大力归化，谁来都没用。 \\u200b\\n国足输给叙利亚之后，里皮辞职。谁将成为新主帅，成为广大球迷关注的焦点。目前舆论方面，倾向于三个人：山东鲁能主帅李霄鹏、武汉卓尔主帅李铁、前广州恒大主帅斯科拉里。 \\u200b\\n据了解，无论中国足协态度如何，里皮其实在宣布请辞同时已经去意已决。据了解。比赛当晚，他的太太西蒙内塔女士及儿子小里皮都在现场看台上观战。辞职后的里皮没有改变原有的计划——赛后第二天他会从迪拜直接飞回意大利。这意味着，他本来也没打算与球队管理层或中国足协高层在赛后第一时间内进行有关辞职的对话。至于辞职以后的善后工作包括合同问题的沟通工作也要待日后双方进一步协商。\\n让我们回顾一下国足历届外籍教练——里皮，佩兰，卡马乔，杜伊科维奇，阿里·汉，米卢……。来之前一个比一个有名，来之后一个比一个水，国足踢不好完全是足协的问题，足协不解散重组，你把天王老子请来都不行\\n斯科拉里想执教中国国足！老头有点意思，凡是里皮干过的地方，他就想试试。当然，老头也是世界杯冠军教头，万一折在中国这里也没啥丢人的，毕竟里皮也折了嘛！可以试试！\\n斯科拉里的水平，还不如里皮。斯科拉里，看好的不是国足，而是年薪…… \\u200b\\n非常应该辞职！中国足球，不需要名帅，也不需要外籍教练，因为一点儿毛用也没有！从施拉普纳到现在，二十余年间，中国足球竟然大踏步的倒退，一点儿也杀不住车，奶奶的，刹车系统坏了！穿着几百块钱的球衣，几千块钱的球鞋，几万块钱的包，几十万的包机，几百万上千万的年薪\\n赛后，叙利亚主教练在更衣室里给每个队员一个耳光。主教练说：“赛前老子就再三交代，这一场无论如何都不能赢中国队！中国援助了我们那么多粮食和美金，如果他们不再援助我们国家，你狗日些要吃土去！”，球员委屈的说：“七十多分钟了，哪个晓得那个龟儿子往他们家球门踢嘛？”\\n里皮辞职返回意大利，他的助教马达洛尼随队返回广州。马达洛尼在接受采访时还原了当时更衣室中的情况：“当时在更衣室，球员们都过来试图说服里皮，让他收回决定，队长郑智尝试阻止他，足协的代表也希望他在考虑一下，我也建议他重新考虑，但无济于事。”\\n中国足协：接受里皮辞职请求，将深刻反思\\n看了个报道，马达洛尼说：“关于里皮的辞职，我事先也没有被告知，自己也不清楚发生了什么，也许是里皮头脑一热的决定。足协也可以留下我们，教练组所有成员都愿意留下，我们也可以和其他教练合作。” \\u200b\\n因为中国队给斯科拉里开足了薪水，给足了他需要的条件！尤其是最后一句话，看好中国队的潜力，这句话真是太鼓舞人心啦！ \\u200b带队结果绝不会比里皮更差， \\u200b而且我一定能带国足夺得2022世界杯冠军！大家支持斯科拉里不？ \\u200b\\n曾经也以为世界名帅里皮能够带领国足走出迷茫，让国足蒸蒸日上，也让我们国人不再迷茫，吃下一颗定心丸。现在我才知道，其实最应改变的不是教练，而是我们的国足，我们的训练机制、学习机制、培养机制。只有真正做好这些，才能使无论哪位名帅接手都能游刃有余地打好比赛。\\n国足输给叙利亚后，里皮坐不住了，直接辞职了\\n难怪有网友说，爱护生命，远离男足。男足的水平也就跟南极洲企鹅踢球。\\n足协主席赠书《红星照我去战斗》送给中国国脚，埃尔克森、里皮懂红色文化吗？\\n国足昨晚1-2输给叙利亚，赛后主帅里皮宣布辞职。'"
      ]
     },
     "execution_count": 2,
     "metadata": {},
     "output_type": "execute_result"
    }
   ],
   "source": [
    "# 读取文件\n",
    "f = open('data/weibos.txt', 'r', encoding='UTF-8')\n",
    "text = f.read()\n",
    "text"
   ]
  },
  {
   "cell_type": "code",
   "execution_count": 3,
   "metadata": {},
   "outputs": [
    {
     "data": {
      "text/plain": [
       "['斯科拉里愿意执教国足上一届如果是里皮从头芾到尾，是很大机会入世界杯的，这一届，没几个能用的，除非大力归化，谁来都没用',\n",
       " ' 国足输给叙利亚之后，里皮辞职',\n",
       " '谁将成为新主帅，成为广大球迷关注的焦点',\n",
       " '目前舆论方面，倾向于三个人：山东鲁能主帅李霄鹏、武汉卓尔主帅李铁、前广州恒大主帅斯科拉里',\n",
       " ' 据了解，无论中国足协态度如何，里皮其实在宣布请辞同时已经去意已决',\n",
       " '据了解',\n",
       " '比赛当晚，他的太太西蒙内塔女士及儿子小里皮都在现场看台上观战',\n",
       " '辞职后的里皮没有改变原有的计划——赛后第二天他会从迪拜直接飞回意大利',\n",
       " '这意味着，他本来也没打算与球队管理层或中国足协高层在赛后第一时间内进行有关辞职的对话',\n",
       " '至于辞职以后的善后工作包括合同问题的沟通工作也要待日后双方进一步协商',\n",
       " '让我们回顾一下国足历届外籍教练——里皮，佩兰，卡马乔，杜伊科维奇，阿里·汉，米卢',\n",
       " '',\n",
       " '',\n",
       " '来之前一个比一个有名，来之后一个比一个水，国足踢不好完全是足协的问题，足协不解散重组，你把天王老子请来都不行斯科拉里想执教中国国足',\n",
       " '老头有点意思，凡是里皮干过的地方，他就想试试',\n",
       " '当然，老头也是世界杯冠军教头，万一折在中国这里也没啥丢人的，毕竟里皮也折了嘛',\n",
       " '可以试试',\n",
       " '斯科拉里的水平，还不如里皮',\n",
       " '斯科拉里，看好的不是国足，而是年薪',\n",
       " '',\n",
       " ' 非常应该辞职',\n",
       " '中国足球，不需要名帅，也不需要外籍教练，因为一点儿毛用也没有',\n",
       " '从施拉普纳到现在，二十余年间，中国足球竟然大踏步的倒退，一点儿也杀不住车，奶奶的，刹车系统坏了',\n",
       " '穿着几百块钱的球衣，几千块钱的球鞋，几万块钱的包，几十万的包机，几百万上千万的年薪赛后，叙利亚主教练在更衣室里给每个队员一个耳光',\n",
       " '主教练说：“赛前老子就再三交代，这一场无论如何都不能赢中国队',\n",
       " '中国援助了我们那么多粮食和美金，如果他们不再援助我们国家，你狗日些要吃土去',\n",
       " '”，球员委屈的说：“七十多分钟了，哪个晓得那个龟儿子往他们家球门踢嘛',\n",
       " '”里皮辞职返回意大利，他的助教马达洛尼随队返回广州',\n",
       " '马达洛尼在接受采访时还原了当时更衣室中的情况：“当时在更衣室，球员们都过来试图说服里皮，让他收回决定，队长郑智尝试阻止他，足协的代表也希望他在考虑一下，我也建议他重新考虑，但无济于事',\n",
       " '”中国足协：接受里皮辞职请求，将深刻反思看了个报道，马达洛尼说：“关于里皮的辞职，我事先也没有被告知，自己也不清楚发生了什么，也许是里皮头脑一热的决定',\n",
       " '足协也可以留下我们，教练组所有成员都愿意留下，我们也可以和其他教练合作',\n",
       " '” 因为中国队给斯科拉里开足了薪水，给足了他需要的条件',\n",
       " '尤其是最后一句话，看好中国队的潜力，这句话真是太鼓舞人心啦',\n",
       " ' 带队结果绝不会比里皮更差， 而且我一定能带国足夺得2022世界杯冠军',\n",
       " '大家支持斯科拉里不',\n",
       " ' 曾经也以为世界名帅里皮能够带领国足走出迷茫，让国足蒸蒸日上，也让我们国人不再迷茫，吃下一颗定心丸',\n",
       " '现在我才知道，其实最应改变的不是教练，而是我们的国足，我们的训练机制、学习机制、培养机制',\n",
       " '只有真正做好这些，才能使无论哪位名帅接手都能游刃有余地打好比赛',\n",
       " '国足输给叙利亚后，里皮坐不住了，直接辞职了难怪有网友说，爱护生命，远离男足',\n",
       " '男足的水平也就跟南极洲企鹅踢球',\n",
       " '足协主席赠书《红星照我去战斗》送给中国国脚，埃尔克森、里皮懂红色文化吗',\n",
       " '国足昨晚1-2输给叙利亚，赛后主帅里皮宣布辞职',\n",
       " '']"
      ]
     },
     "execution_count": 3,
     "metadata": {},
     "output_type": "execute_result"
    }
   ],
   "source": [
    "# 以句号，叹号，问号作为分隔，去掉\\n换行符号,#号，\\u200b和前后空格\n",
    "sentences = re.split('[。！？…]', text.replace('\\n', '').replace('#','').replace('\\u200b',''))\n",
    "sentences"
   ]
  },
  {
   "cell_type": "code",
   "execution_count": 4,
   "metadata": {},
   "outputs": [
    {
     "data": {
      "text/plain": [
       "['斯科拉里愿意执教国足上一届如果是里皮从头芾到尾，是很大机会入世界杯的，这一届，没几个能用的，除非大力归化，谁来都没用',\n",
       " '国足输给叙利亚之后，里皮辞职',\n",
       " '谁将成为新主帅，成为广大球迷关注的焦点',\n",
       " '目前舆论方面，倾向于三个人：山东鲁能主帅李霄鹏、武汉卓尔主帅李铁、前广州恒大主帅斯科拉里',\n",
       " '据了解，无论中国足协态度如何，里皮其实在宣布请辞同时已经去意已决',\n",
       " '据了解',\n",
       " '比赛当晚，他的太太西蒙内塔女士及儿子小里皮都在现场看台上观战',\n",
       " '辞职后的里皮没有改变原有的计划——赛后第二天他会从迪拜直接飞回意大利',\n",
       " '这意味着，他本来也没打算与球队管理层或中国足协高层在赛后第一时间内进行有关辞职的对话',\n",
       " '至于辞职以后的善后工作包括合同问题的沟通工作也要待日后双方进一步协商',\n",
       " '让我们回顾一下国足历届外籍教练——里皮，佩兰，卡马乔，杜伊科维奇，阿里·汉，米卢',\n",
       " '来之前一个比一个有名，来之后一个比一个水，国足踢不好完全是足协的问题，足协不解散重组，你把天王老子请来都不行斯科拉里想执教中国国足',\n",
       " '老头有点意思，凡是里皮干过的地方，他就想试试',\n",
       " '当然，老头也是世界杯冠军教头，万一折在中国这里也没啥丢人的，毕竟里皮也折了嘛',\n",
       " '可以试试',\n",
       " '斯科拉里的水平，还不如里皮',\n",
       " '斯科拉里，看好的不是国足，而是年薪',\n",
       " '非常应该辞职',\n",
       " '中国足球，不需要名帅，也不需要外籍教练，因为一点儿毛用也没有',\n",
       " '从施拉普纳到现在，二十余年间，中国足球竟然大踏步的倒退，一点儿也杀不住车，奶奶的，刹车系统坏了',\n",
       " '穿着几百块钱的球衣，几千块钱的球鞋，几万块钱的包，几十万的包机，几百万上千万的年薪赛后，叙利亚主教练在更衣室里给每个队员一个耳光',\n",
       " '主教练说：“赛前老子就再三交代，这一场无论如何都不能赢中国队',\n",
       " '中国援助了我们那么多粮食和美金，如果他们不再援助我们国家，你狗日些要吃土去',\n",
       " '球员委屈的说：“七十多分钟了，哪个晓得那个龟儿子往他们家球门踢嘛',\n",
       " '里皮辞职返回意大利，他的助教马达洛尼随队返回广州',\n",
       " '马达洛尼在接受采访时还原了当时更衣室中的情况：“当时在更衣室，球员们都过来试图说服里皮，让他收回决定，队长郑智尝试阻止他，足协的代表也希望他在考虑一下，我也建议他重新考虑，但无济于事',\n",
       " '中国足协：接受里皮辞职请求，将深刻反思看了个报道，马达洛尼说：“关于里皮的辞职，我事先也没有被告知，自己也不清楚发生了什么，也许是里皮头脑一热的决定',\n",
       " '足协也可以留下我们，教练组所有成员都愿意留下，我们也可以和其他教练合作',\n",
       " '因为中国队给斯科拉里开足了薪水，给足了他需要的条件',\n",
       " '尤其是最后一句话，看好中国队的潜力，这句话真是太鼓舞人心啦',\n",
       " '带队结果绝不会比里皮更差， 而且我一定能带国足夺得2022世界杯冠军',\n",
       " '大家支持斯科拉里不',\n",
       " '曾经也以为世界名帅里皮能够带领国足走出迷茫，让国足蒸蒸日上，也让我们国人不再迷茫，吃下一颗定心丸',\n",
       " '现在我才知道，其实最应改变的不是教练，而是我们的国足，我们的训练机制、学习机制、培养机制',\n",
       " '只有真正做好这些，才能使无论哪位名帅接手都能游刃有余地打好比赛',\n",
       " '国足输给叙利亚后，里皮坐不住了，直接辞职了难怪有网友说，爱护生命，远离男足',\n",
       " '男足的水平也就跟南极洲企鹅踢球',\n",
       " '足协主席赠书《红星照我去战斗》送给中国国脚，埃尔克森、里皮懂红色文化吗',\n",
       " '国足昨晚1-2输给叙利亚，赛后主帅里皮宣布辞职']"
      ]
     },
     "execution_count": 4,
     "metadata": {},
     "output_type": "execute_result"
    }
   ],
   "source": [
    "# 删除空行和前后空格和其他符号\n",
    "for i in range(len(sentences)):\n",
    "    sentences[i] = sentences[i].strip('”， ')\n",
    "for sentence in sentences:\n",
    "    if sentence == '':\n",
    "        sentences.remove(sentence)\n",
    "# 最后一行如果为空，则删除\n",
    "if sentences[len(sentences)-1] == '':\n",
    "    sentences.pop()\n",
    "sentences"
   ]
  },
  {
   "cell_type": "code",
   "execution_count": 5,
   "metadata": {},
   "outputs": [],
   "source": [
    "# 将item_text进行分词\n",
    "def get_item_str(item_text):\n",
    "    item_str = \"\" \n",
    "    item=(pseg.cut(item_text)) \n",
    "    for i in list(item):\n",
    "        #去掉停用词\n",
    "        if i.word not in list(stop):  \n",
    "            item_str += i.word\n",
    "            #tfidf_vectorizer.fit_transform的输入需要空格分隔的单词\n",
    "            item_str += \" \"\n",
    "    return item_str"
   ]
  },
  {
   "cell_type": "code",
   "execution_count": 6,
   "metadata": {},
   "outputs": [],
   "source": [
    "# 对item_str创建MinHash\n",
    "def get_minhash(item_str):\n",
    "    temp = MinHash()\n",
    "    for d in item_str:\n",
    "        temp.update(d.encode('utf8'))\n",
    "    return temp"
   ]
  },
  {
   "cell_type": "code",
   "execution_count": 7,
   "metadata": {},
   "outputs": [
    {
     "name": "stderr",
     "output_type": "stream",
     "text": [
      "Building prefix dict from the default dictionary ...\n",
      "Loading model from cache C:\\Users\\LinWang\\AppData\\Local\\Temp\\jieba.cache\n",
      "Loading model cost 0.556 seconds.\n",
      "Prefix dict has been built succesfully.\n"
     ]
    }
   ],
   "source": [
    "# 设置停用词\n",
    "stop = [line.strip().decode('utf-8') for line in open('data/stopword.txt').readlines()]\n",
    "# 得到分词后的documents\n",
    "documents = []\n",
    "for item_text in sentences:\n",
    "    # 将item_text进行分词\n",
    "    item_str = get_item_str(item_text)\n",
    "    documents.append(item_str)"
   ]
  },
  {
   "cell_type": "code",
   "execution_count": 8,
   "metadata": {},
   "outputs": [],
   "source": [
    "# 创建LSH Forest及MinHash对象\n",
    "minhash_list = []\n",
    "forest = MinHashLSHForest()\n",
    "for i in range(len(documents)):\n",
    "    #得到train_documents[i]的MinHash\n",
    "    temp = get_minhash(documents[i])\n",
    "    minhash_list.append(temp)\n",
    "    forest.add(i, temp)\n",
    "# index所有key，以便可以进行检索\n",
    "forest.index()"
   ]
  },
  {
   "cell_type": "code",
   "execution_count": 9,
   "metadata": {},
   "outputs": [
    {
     "data": {
      "text/plain": [
       "'斯科拉里愿意执教国足上一届如果是里皮从头芾到尾，是很大机会入世界杯的，这一届，没几个能用的，除非大力归化，谁来都没用'"
      ]
     },
     "execution_count": 9,
     "metadata": {},
     "output_type": "execute_result"
    }
   ],
   "source": [
    "query = sentences[0]\n",
    "query"
   ]
  },
  {
   "cell_type": "code",
   "execution_count": 10,
   "metadata": {},
   "outputs": [
    {
     "data": {
      "text/plain": [
       "'斯科拉里 愿意 执教 国足 上 一届 如果 是 里 皮 从头 芾 到 尾 ， 是 很大 机会 入 世界杯 的 ， 这 一届 ， 没 几个 能用 的 ， 除非 大力 归化 ， 谁 来 都 没用 '"
      ]
     },
     "execution_count": 10,
     "metadata": {},
     "output_type": "execute_result"
    }
   ],
   "source": [
    "# 将item_text进行分词\n",
    "item_str = get_item_str(query)\n",
    "item_str"
   ]
  },
  {
   "cell_type": "code",
   "execution_count": 11,
   "metadata": {},
   "outputs": [],
   "source": [
    "# 得到item_str的MinHash\n",
    "minhash_query = get_minhash(item_str)"
   ]
  },
  {
   "cell_type": "code",
   "execution_count": 12,
   "metadata": {},
   "outputs": [
    {
     "name": "stdout",
     "output_type": "stream",
     "text": [
      "0 1.0 斯科拉里愿意执教国足上一届如果是里皮从头芾到尾，是很大机会入世界杯的，这一届，没几个能用的，除非大力归化，谁来都没用\n",
      "11 0.25 来之前一个比一个有名，来之后一个比一个水，国足踢不好完全是足协的问题，足协不解散重组，你把天王老子请来都不行斯科拉里想执教中国国足\n",
      "13 0.296875 当然，老头也是世界杯冠军教头，万一折在中国这里也没啥丢人的，毕竟里皮也折了嘛\n",
      "Top 3 邻居 [0, 11, 13]\n"
     ]
    }
   ],
   "source": [
    "# 查询forest中与m1相似的Top-K个邻居\n",
    "result = forest.query(minhash_query, 3)\n",
    "for i in range(len(result)):\n",
    "    print(result[i], minhash_query.jaccard(minhash_list[result[i]]), documents[result[i]].replace(' ', ''))\n",
    "print(\"Top 3 邻居\", result)"
   ]
  },
  {
   "cell_type": "markdown",
   "metadata": {},
   "source": [
    "### 三国"
   ]
  },
  {
   "cell_type": "code",
   "execution_count": 13,
   "metadata": {},
   "outputs": [],
   "source": [
    "# 读取文件\n",
    "f1 = open('data/three_kingdoms.txt', 'r', encoding='UTF-8')\n",
    "text1 = f1.read()"
   ]
  },
  {
   "cell_type": "code",
   "execution_count": 14,
   "metadata": {},
   "outputs": [
    {
     "data": {
      "text/plain": [
       "['三国演义作者：罗贯中正文 第一回 宴桃园豪杰三结义 斩黄巾英雄首立功滚滚长江东逝水，浪花淘尽英雄',\n",
       " '是非成败转头空',\n",
       " '青山依旧在，几度夕阳红',\n",
       " '白发渔樵江渚上，惯看秋月春风',\n",
       " '一壶浊酒喜相逢',\n",
       " '古今多少事，都付笑谈中',\n",
       " '——调寄《临江仙》话说天下大势，分久必合，合久必分',\n",
       " '周末七国分争，并入于秦',\n",
       " '及秦灭之后，楚、汉分争，又并入于汉',\n",
       " '汉朝自高祖斩白蛇而起义，一统天下，后来光武中兴，传至献帝，遂分为三国']"
      ]
     },
     "execution_count": 14,
     "metadata": {},
     "output_type": "execute_result"
    }
   ],
   "source": [
    "# 以句号，叹号，问号作为分隔，去掉\\n换行符号,#号，\\u200b和前后空格\n",
    "sentences1 = re.split('[。！？…]', text1.replace('\\n', '').replace('#','').replace('\\u3000',''))\n",
    "sentences1[:10]"
   ]
  },
  {
   "cell_type": "code",
   "execution_count": 15,
   "metadata": {},
   "outputs": [
    {
     "data": {
      "text/plain": [
       "['三国演义作者：罗贯中正文 第一回 宴桃园豪杰三结义 斩黄巾英雄首立功滚滚长江东逝水，浪花淘尽英雄',\n",
       " '是非成败转头空',\n",
       " '青山依旧在，几度夕阳红',\n",
       " '白发渔樵江渚上，惯看秋月春风',\n",
       " '一壶浊酒喜相逢',\n",
       " '古今多少事，都付笑谈中',\n",
       " '——调寄《临江仙》话说天下大势，分久必合，合久必分',\n",
       " '周末七国分争，并入于秦',\n",
       " '及秦灭之后，楚、汉分争，又并入于汉',\n",
       " '汉朝自高祖斩白蛇而起义，一统天下，后来光武中兴，传至献帝，遂分为三国']"
      ]
     },
     "execution_count": 15,
     "metadata": {},
     "output_type": "execute_result"
    }
   ],
   "source": [
    "# 删除空行和前后空格和其他符号\n",
    "for i in range(len(sentences1)):\n",
    "    sentences1[i] = sentences1[i].strip('”， -')\n",
    "for sentence in sentences1:\n",
    "    if sentence == '':\n",
    "        sentences1.remove(sentence)\n",
    "# 最后一行如果为空，则删除\n",
    "if sentences1[len(sentences)-1] == '':\n",
    "    sentences1.pop()\n",
    "sentences1[:10]"
   ]
  },
  {
   "cell_type": "code",
   "execution_count": 16,
   "metadata": {},
   "outputs": [],
   "source": [
    "# 将item_text进行分词\n",
    "def get_item_str(item_text):\n",
    "    item_str = \"\" \n",
    "    item=(pseg.cut(item_text)) \n",
    "    for i in list(item):\n",
    "        #去掉停用词\n",
    "        if i.word not in list(stop):  \n",
    "            item_str += i.word\n",
    "            #tfidf_vectorizer.fit_transform的输入需要空格分隔的单词\n",
    "            item_str += \" \"\n",
    "    return item_str"
   ]
  },
  {
   "cell_type": "code",
   "execution_count": 17,
   "metadata": {},
   "outputs": [],
   "source": [
    "# 得到分词后的documents\n",
    "documents1 = []\n",
    "for item_text in sentences1:\n",
    "    # 将item_text进行分词\n",
    "    item_str1 = get_item_str(item_text)\n",
    "    documents1.append(item_str1)"
   ]
  },
  {
   "cell_type": "code",
   "execution_count": 18,
   "metadata": {},
   "outputs": [],
   "source": [
    "# 创建LSH Forest及MinHash对象\n",
    "minhash_list1 = []\n",
    "forest1 = MinHashLSHForest()\n",
    "for i in range(len(documents1)):\n",
    "    #得到train_documents[i]的MinHash\n",
    "    temp1 = get_minhash(documents1[i])\n",
    "    minhash_list1.append(temp1)\n",
    "    forest1.add(i, temp1)\n",
    "# index所有key，以便可以进行检索\n",
    "forest1.index()"
   ]
  },
  {
   "cell_type": "code",
   "execution_count": 19,
   "metadata": {},
   "outputs": [
    {
     "data": {
      "text/plain": [
       "'三国演义作者：罗贯中正文 第一回 宴桃园豪杰三结义 斩黄巾英雄首立功滚滚长江东逝水，浪花淘尽英雄'"
      ]
     },
     "execution_count": 19,
     "metadata": {},
     "output_type": "execute_result"
    }
   ],
   "source": [
    "query1 = sentences1[0]\n",
    "query1"
   ]
  },
  {
   "cell_type": "code",
   "execution_count": 20,
   "metadata": {},
   "outputs": [
    {
     "data": {
      "text/plain": [
       "'三国演义 作者 ： 罗贯中 正文   第一回   宴 桃园 豪杰 三 结义   斩 黄巾 英雄 首 立功 滚滚 长江 东 逝水 ， 浪花 淘尽 英雄 '"
      ]
     },
     "execution_count": 20,
     "metadata": {},
     "output_type": "execute_result"
    }
   ],
   "source": [
    "# 将item_text进行分词\n",
    "item_str1 = get_item_str(query1)\n",
    "item_str1"
   ]
  },
  {
   "cell_type": "code",
   "execution_count": 21,
   "metadata": {},
   "outputs": [],
   "source": [
    "# 得到item_str的MinHash\n",
    "minhash_query1 = get_minhash(item_str1)"
   ]
  },
  {
   "cell_type": "code",
   "execution_count": 22,
   "metadata": {},
   "outputs": [
    {
     "name": "stdout",
     "output_type": "stream",
     "text": [
      "0 1.0 三国演义作者：罗贯中正文第一回宴桃园豪杰三结义斩黄巾英雄首立功滚滚长江东逝水，浪花淘尽英雄\n",
      "339 0.109375 玄德曰：“备乃中山靖王之后；自涿郡剿戮黄巾，大小三十余战，颇有微功，因得除今职\n",
      "13299 0.09375 云长见一老将出马，知是黄忠，把五百校刀手一字摆开，横刀立马而问曰：“来将莫非黄忠否\n",
      "Top 3 邻居 [0, 339, 13299]\n"
     ]
    }
   ],
   "source": [
    "# 查询forest中与m1相似的Top-K个邻居\n",
    "result1 = forest1.query(minhash_query1, 3)\n",
    "for i in range(len(result1)):\n",
    "    print(result1[i], minhash_query1.jaccard(minhash_list1[result1[i]]), documents1[result1[i]].replace(' ', ''))\n",
    "print(\"Top 3 邻居\", result1)"
   ]
  },
  {
   "cell_type": "code",
   "execution_count": null,
   "metadata": {},
   "outputs": [],
   "source": []
  }
 ],
 "metadata": {
  "kernelspec": {
   "display_name": "learnBI",
   "language": "python",
   "name": "learnbi"
  },
  "language_info": {
   "codemirror_mode": {
    "name": "ipython",
    "version": 3
   },
   "file_extension": ".py",
   "mimetype": "text/x-python",
   "name": "python",
   "nbconvert_exporter": "python",
   "pygments_lexer": "ipython3",
   "version": "3.6.10"
  }
 },
 "nbformat": 4,
 "nbformat_minor": 4
}
