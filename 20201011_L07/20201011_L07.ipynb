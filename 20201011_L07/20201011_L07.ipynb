{
 "cells": [
  {
   "cell_type": "markdown",
   "metadata": {
    "id": "IVojM67p2ral"
   },
   "source": [
    "# 导师制名企实训班商业智能方向 004期 Lesson 7"
   ]
  },
  {
   "cell_type": "markdown",
   "metadata": {
    "id": "qIkHxAyR2ral"
   },
   "source": [
    "### Thinking 1： 参数共享指的是什么？"
   ]
  },
  {
   "cell_type": "markdown",
   "metadata": {
    "id": "SZPp0jjv2ram"
   },
   "source": [
    "CNN中的某一卷积核在整张图片上对于不同位置做卷积操作的时候，其卷积核的参数会被整张图共享（在当前卷积操作时参数不会变化），这就是CNN中参数共享的意思。"
   ]
  },
  {
   "cell_type": "markdown",
   "metadata": {
    "id": "rqGCpqLw2ram"
   },
   "source": [
    "### Thinking 2：为什么会用到batch normalization ?"
   ]
  },
  {
   "cell_type": "markdown",
   "metadata": {
    "id": "0mIud9q32ran"
   },
   "source": [
    "由于神经网络的参数更新，所以某一层的输入（前一层的输出）的分布会发生变化，这会导致反向传播时低层神经网络的梯度消失，导致深层神经网络收敛越来越慢。所以，Batch Normalization操作，对于每个隐层神经元，把输入分布强制拉回到均值为0方差为1的比较标准的正态分布，使得非线性变换函数的输入值落入对输入比较敏感的区域，以此避免梯度消失问题。"
   ]
  },
  {
   "cell_type": "markdown",
   "metadata": {
    "id": "sFavSB4w2ran"
   },
   "source": [
    "### Thinking 3： 使用dropout可以解决什么问题？"
   ]
  },
  {
   "cell_type": "markdown",
   "metadata": {
    "id": "dZu8BtX82rao"
   },
   "source": [
    "深度神经网络具有很强的拟合能力，这也导致模型容易出现过拟合现象，Dropout就可以一定程度上缓解模型过拟合问题。在每个批次中，Dropout通过随机忽略一定概率（通常是一半）的神经节点，减少神经节点之间的相互依赖作用，使得模型泛化能力更强。"
   ]
  },
  {
   "cell_type": "markdown",
   "metadata": {
    "id": "PI3JJNmi2rao"
   },
   "source": [
    "### Action 1： 使用任何神经网络框架，对CIFAR-10进行分类\n",
    "http://www.cs.toronto.edu/~kriz/cifar.html  \n",
    "训练集 50000，测试集 10000  \n",
    "图像大小 32*32 彩色  \n",
    "10个分类：ariplane, automobile, bird, cat, deer, dog, frog, horse, ship, truck  "
   ]
  },
  {
   "cell_type": "markdown",
   "metadata": {
    "id": "ziIeGah25AKv"
   },
   "source": [
    "### 使用ResNet"
   ]
  },
  {
   "cell_type": "code",
   "execution_count": 1,
   "metadata": {
    "id": "pB9YSmjF2rao"
   },
   "outputs": [],
   "source": [
    "import torch\n",
    "import torch.nn as nn\n",
    "import torch.optim as optim\n",
    "from torch.utils.data import DataLoader\n",
    "import torchvision\n",
    "import torchvision.datasets as datasets\n",
    "import torchvision.transforms as transforms\n"
   ]
  },
  {
   "cell_type": "code",
   "execution_count": 2,
   "metadata": {
    "colab": {
     "base_uri": "https://localhost:8080/",
     "height": 103,
     "referenced_widgets": [
      "eef5afa364a84ff69e1a8f241907bb7b",
      "70d8ce2b739e40179b70acb7748ee7b6",
      "4738f610cdc0458fbfb858ab093c4b46",
      "36dee511c8f14744adc2171396eda611",
      "1240f0cb26f54e7aa257e1bcf34da3fc",
      "19e94c6a8f2f42c99d1fee3cdbce9461",
      "e90b717a50114747a7089be9315b7972",
      "217f2b9062bd4171b933ba43e96004d2"
     ]
    },
    "id": "bolKDkon2rar",
    "outputId": "162ebcb4-b3fc-4520-9a7a-79ec6cf4e1bc"
   },
   "outputs": [
    {
     "name": "stdout",
     "output_type": "stream",
     "text": [
      "Files already downloaded and verified\n",
      "Files already downloaded and verified\n"
     ]
    }
   ],
   "source": [
    "# 数据加载\n",
    "train_data = datasets.CIFAR10(root='data/cifar10/', train=True, transform=transforms.ToTensor(), download=True)\n",
    "test_data = datasets.CIFAR10(root='data/cifar10/', train=False, transform=transforms.ToTensor(), download=True)\n"
   ]
  },
  {
   "cell_type": "code",
   "execution_count": 3,
   "metadata": {
    "colab": {
     "base_uri": "https://localhost:8080/",
     "height": 302
    },
    "id": "96NrbYgb2rat",
    "outputId": "04cb7945-3968-4045-f3b1-c1c7d5445c11"
   },
   "outputs": [
    {
     "name": "stdout",
     "output_type": "stream",
     "text": [
      "(3, 32, 32)\n",
      "(32, 32, 3)\n"
     ]
    },
    {
     "data": {
      "image/png": "[encoded data removed]",
      "text/plain": [
       "<Figure size 432x288 with 1 Axes>"
      ]
     },
     "metadata": {
      "needs_background": "light"
     },
     "output_type": "display_data"
    }
   ],
   "source": [
    "import matplotlib.pyplot as plt\n",
    "# 输出图像\n",
    "temp = train_data[1][0].numpy()\n",
    "print(temp.shape)\n",
    "temp = temp.transpose(1,2,0)\n",
    "print(temp.shape)\n",
    "plt.imshow(temp)\n",
    "plt.show()"
   ]
  },
  {
   "cell_type": "code",
   "execution_count": 4,
   "metadata": {
    "colab": {
     "base_uri": "https://localhost:8080/",
     "height": 85,
     "referenced_widgets": [
      "f0349af4dce54578829c165c367e144d",
      "9d24860fd31a4c99a9f0305fce4fd50b",
      "3fda94a658d04f0ba83282d65f2fc313",
      "6cd95e31f9b041149f7f29eab6d81964",
      "703f8e44894140f2a866cc2c4e997a13",
      "7fb1307db63c4cc6a34e3c3f56e42d5b",
      "15f476ca55184876ab99b86cb86fe52a",
      "f1dc5c2dba434c51b9607907e4913a0d"
     ]
    },
    "id": "pw3paI9X2rav",
    "outputId": "1534172f-e897-4d11-d7a9-b1e6437b2218"
   },
   "outputs": [],
   "source": [
    "# 超参数定义\n",
    "EPOCH = 20\n",
    "BATCH_SIZE = 512\n",
    "LR = 0.0005\n",
    "\n",
    "# 使用DataLoader进行分批\n",
    "train_loader = DataLoader(dataset=train_data, batch_size=BATCH_SIZE, shuffle=True)\n",
    "test_loader = DataLoader(dataset=test_data, batch_size=BATCH_SIZE)\n",
    "\n",
    "# 使用ResNet\n",
    "model = torchvision.models.resnet34(pretrained=True)"
   ]
  },
  {
   "cell_type": "code",
   "execution_count": 5,
   "metadata": {
    "colab": {
     "base_uri": "https://localhost:8080/",
     "height": 35
    },
    "id": "euh1Wj7a2rax",
    "outputId": "403613bf-4c31-4b67-c709-e7b49bdcc025"
   },
   "outputs": [
    {
     "name": "stdout",
     "output_type": "stream",
     "text": [
      "device: cuda:0\n"
     ]
    }
   ],
   "source": [
    "# 定义损失函数\n",
    "criterion = nn.CrossEntropyLoss()\n",
    "# 定义优化器\n",
    "optimizer = optim.Adam(model.parameters(), lr=LR)\n",
    "# 定义device\n",
    "device = torch.device('cuda:0' if torch.cuda.is_available() else 'cpu')\n",
    "model.to(device)\n",
    "print('device:',device)"
   ]
  },
  {
   "cell_type": "code",
   "execution_count": 6,
   "metadata": {
    "colab": {
     "base_uri": "https://localhost:8080/",
     "height": 737
    },
    "id": "NTaaVr2l2raz",
    "outputId": "0bf71350-bd62-4c6b-b58b-a65a79ad5d30"
   },
   "outputs": [
    {
     "name": "stdout",
     "output_type": "stream",
     "text": [
      "epoch: 1 loss:0.6644 time:24.9233\n",
      "epoch: 2 loss:0.5800 time:24.7075\n",
      "epoch: 3 loss:0.3569 time:24.8903\n",
      "epoch: 4 loss:0.2686 time:24.9301\n",
      "epoch: 5 loss:0.1761 time:24.9450\n",
      "epoch: 6 loss:0.1299 time:24.9413\n",
      "epoch: 7 loss:0.1829 time:24.9018\n",
      "epoch: 8 loss:0.0961 time:24.9080\n",
      "epoch: 9 loss:0.0669 time:24.7413\n",
      "epoch:10 loss:0.0444 time:24.7536\n",
      "epoch:11 loss:0.0418 time:24.7128\n",
      "epoch:12 loss:0.0601 time:24.7071\n",
      "epoch:13 loss:0.0455 time:24.7459\n",
      "epoch:14 loss:0.0505 time:24.7184\n",
      "epoch:15 loss:0.0283 time:24.7418\n",
      "epoch:16 loss:0.0324 time:24.7743\n",
      "epoch:17 loss:0.0540 time:24.7535\n",
      "epoch:18 loss:0.0367 time:24.8363\n",
      "epoch:19 loss:0.0404 time:24.9979\n",
      "epoch:20 loss:0.0416 time:24.9573\n"
     ]
    }
   ],
   "source": [
    "import time \n",
    "model.train()\n",
    "# 训练\n",
    "for epoch in range(EPOCH):\n",
    "    start_time = time.time()\n",
    "    for i, data in enumerate(train_loader):\n",
    "        inputs, labels = data\n",
    "        inputs, labels = inputs.to(device), labels.to(device)\n",
    "        # 前向传播\n",
    "        outputs = model(inputs)\n",
    "        # 计算损失函数\n",
    "        loss = criterion(outputs, labels)\n",
    "        # 清空上一轮梯度\n",
    "        optimizer.zero_grad()\n",
    "        # 反向传播\n",
    "        loss.backward()\n",
    "        # 参数更新\n",
    "        optimizer.step()\n",
    "    print('epoch:{:2} loss:{:.4f} time:{:.4f}'.format(epoch+1, loss.item(), time.time()-start_time))"
   ]
  },
  {
   "cell_type": "code",
   "execution_count": 7,
   "metadata": {
    "colab": {
     "base_uri": "https://localhost:8080/",
     "height": 35
    },
    "id": "qPoTGUPk2ra2",
    "outputId": "d5994436-363b-4d99-c069-d1c54a4dfaad"
   },
   "outputs": [
    {
     "name": "stdout",
     "output_type": "stream",
     "text": [
      "data/cifar10_resnet34.pt saved\n"
     ]
    }
   ],
   "source": [
    "# 保存训练模型\n",
    "file_name = 'data/cifar10_resnet34.pt'\n",
    "torch.save(model, file_name)\n",
    "print(file_name+' saved')"
   ]
  },
  {
   "cell_type": "code",
   "execution_count": 8,
   "metadata": {
    "colab": {
     "base_uri": "https://localhost:8080/",
     "height": 35
    },
    "id": "rWjYWlCg2ra3",
    "outputId": "e87b2672-d824-4176-ca5c-47c1cf463c1b"
   },
   "outputs": [
    {
     "name": "stdout",
     "output_type": "stream",
     "text": [
      "10000张测试图像 准确率：82.19%\n"
     ]
    }
   ],
   "source": [
    "# 测试\n",
    "model=torch.load(file_name)\n",
    "model.eval()\n",
    "\n",
    "correct, total = 0, 0\n",
    "for data in test_loader:\n",
    "    images, labels = data\n",
    "    images, labels = images.to(device), labels.to(device)\n",
    "    # 前向传播\n",
    "    out = model(images)\n",
    "    # 预测结果\n",
    "    _, predicted = torch.max(out.data, 1)\n",
    "    # 判断预测结果与实际结果是否一致\n",
    "    total += labels.size(0)\n",
    "    correct += (predicted==labels).sum().item()\n",
    "\n",
    "# 输出识别准确率\n",
    "print(\"10000张测试图像 准确率：{:.2f}%\".format(100.0*correct/total))"
   ]
  },
  {
   "cell_type": "markdown",
   "metadata": {
    "id": "bPybJxiUBVbB"
   },
   "source": [
    "### 使用DenseNet"
   ]
  },
  {
   "cell_type": "code",
   "execution_count": 9,
   "metadata": {
    "colab": {
     "base_uri": "https://localhost:8080/",
     "height": 35
    },
    "id": "4ftg4iFL8_l7",
    "outputId": "dcdebeab-ea34-4066-e17b-0dfcbc12d27a"
   },
   "outputs": [
    {
     "name": "stdout",
     "output_type": "stream",
     "text": [
      "device: cuda:0\n"
     ]
    }
   ],
   "source": [
    "# 超参数定义\n",
    "EPOCH = 20\n",
    "BATCH_SIZE = 512\n",
    "LR = 0.0005\n",
    "# 使用DenseNet\n",
    "model = torchvision.models.densenet121(pretrained=True)\n",
    "# 定义损失函数\n",
    "criterion = nn.CrossEntropyLoss()\n",
    "# 定义优化器\n",
    "optimizer = optim.Adam(model.parameters(), lr=LR)\n",
    "# 定义device\n",
    "model.to(device)\n",
    "print('device:',device)"
   ]
  },
  {
   "cell_type": "code",
   "execution_count": 10,
   "metadata": {
    "colab": {
     "base_uri": "https://localhost:8080/",
     "height": 737
    },
    "id": "4j0w6_UkXCz_",
    "outputId": "809bc627-d367-435a-e0ba-43f97c9790a4"
   },
   "outputs": [
    {
     "name": "stdout",
     "output_type": "stream",
     "text": [
      "epoch: 1 loss:0.6621 time:33.5144\n",
      "epoch: 2 loss:0.5438 time:33.3484\n",
      "epoch: 3 loss:0.2628 time:33.3855\n",
      "epoch: 4 loss:0.2396 time:34.1364\n",
      "epoch: 5 loss:0.1082 time:33.9304\n",
      "epoch: 6 loss:0.1166 time:33.8739\n",
      "epoch: 7 loss:0.0813 time:33.9279\n",
      "epoch: 8 loss:0.0651 time:33.9213\n",
      "epoch: 9 loss:0.0699 time:33.8489\n",
      "epoch:10 loss:0.0622 time:33.9397\n",
      "epoch:11 loss:0.0657 time:34.2322\n",
      "epoch:12 loss:0.0403 time:33.8383\n",
      "epoch:13 loss:0.0482 time:33.4341\n",
      "epoch:14 loss:0.0297 time:33.3062\n",
      "epoch:15 loss:0.0448 time:33.3903\n",
      "epoch:16 loss:0.0671 time:33.5370\n",
      "epoch:17 loss:0.0655 time:33.7663\n",
      "epoch:18 loss:0.0461 time:33.8703\n",
      "epoch:19 loss:0.0357 time:34.0421\n",
      "epoch:20 loss:0.0372 time:33.4931\n"
     ]
    }
   ],
   "source": [
    "# 训练\n",
    "model.train()\n",
    "for epoch in range(EPOCH):\n",
    "    start_time = time.time()\n",
    "    for i, data in enumerate(train_loader):\n",
    "        inputs, labels = data\n",
    "        inputs, labels = inputs.to(device), labels.to(device)\n",
    "        # 前向传播\n",
    "        outputs = model(inputs)\n",
    "        # 计算损失函数\n",
    "        loss = criterion(outputs, labels)\n",
    "        # 清空上一轮梯度\n",
    "        optimizer.zero_grad()\n",
    "        # 反向传播\n",
    "        loss.backward()\n",
    "        # 参数更新\n",
    "        optimizer.step()\n",
    "    print('epoch:{:2} loss:{:.4f} time:{:.4f}'.format(epoch+1, loss.item(), time.time()-start_time))"
   ]
  },
  {
   "cell_type": "code",
   "execution_count": 11,
   "metadata": {
    "colab": {
     "base_uri": "https://localhost:8080/",
     "height": 35
    },
    "id": "0JTdyOyDXPhG",
    "outputId": "d3181fc7-ebc3-40ae-cfe5-d7338b53aa1a"
   },
   "outputs": [
    {
     "name": "stdout",
     "output_type": "stream",
     "text": [
      "data/cifar10_densenet121.pt saved\n"
     ]
    }
   ],
   "source": [
    "# 保存训练模型\n",
    "file_name2 = 'data/cifar10_densenet121.pt'\n",
    "torch.save(model, file_name2)\n",
    "print(file_name2+' saved')"
   ]
  },
  {
   "cell_type": "code",
   "execution_count": 12,
   "metadata": {
    "colab": {
     "base_uri": "https://localhost:8080/",
     "height": 35
    },
    "id": "dEgA24zmXXVW",
    "outputId": "0cfbc204-f074-4f5e-d192-5e0cdad71512"
   },
   "outputs": [
    {
     "name": "stdout",
     "output_type": "stream",
     "text": [
      "10000张测试图像 准确率：83.52%\n"
     ]
    }
   ],
   "source": [
    "# 测试\n",
    "model=torch.load(file_name2)\n",
    "model.eval()\n",
    "\n",
    "correct, total = 0, 0\n",
    "for data in test_loader:\n",
    "    images, labels = data\n",
    "    images, labels = images.to(device), labels.to(device)\n",
    "    # 前向传播\n",
    "    out = model(images)\n",
    "    # 预测结果\n",
    "    _, predicted = torch.max(out.data, 1)\n",
    "    # 判断预测结果与实际结果是否一致\n",
    "    total += labels.size(0)\n",
    "    correct += (predicted==labels).sum().item()\n",
    "\n",
    "# 输出识别准确率\n",
    "print(\"10000张测试图像 准确率：{:.2f}%\".format(100.0*correct/total))"
   ]
  },
  {
   "cell_type": "markdown",
   "metadata": {},
   "source": [
    "### 使用VGG16"
   ]
  },
  {
   "cell_type": "code",
   "execution_count": 13,
   "metadata": {
    "id": "YKrdoXaoevR9"
   },
   "outputs": [
    {
     "name": "stdout",
     "output_type": "stream",
     "text": [
      "device: cuda:0\n"
     ]
    }
   ],
   "source": [
    "# 超参数定义\n",
    "EPOCH = 20\n",
    "BATCH_SIZE = 512\n",
    "LR = 0.0005\n",
    "# 使用DenseNet\n",
    "model = torchvision.models.vgg16_bn(pretrained=True)\n",
    "# 定义损失函数\n",
    "criterion = nn.CrossEntropyLoss()\n",
    "# 定义优化器\n",
    "optimizer = optim.Adam(model.parameters(), lr=LR)\n",
    "# 定义device\n",
    "model.to(device)\n",
    "print('device:',device)"
   ]
  },
  {
   "cell_type": "code",
   "execution_count": 14,
   "metadata": {},
   "outputs": [
    {
     "name": "stdout",
     "output_type": "stream",
     "text": [
      "epoch: 1 loss:0.4841 time:29.5992\n",
      "epoch: 2 loss:0.2674 time:29.6310\n",
      "epoch: 3 loss:0.1411 time:29.6751\n",
      "epoch: 4 loss:0.1979 time:29.6764\n",
      "epoch: 5 loss:0.1197 time:29.6793\n",
      "epoch: 6 loss:0.0623 time:29.6746\n",
      "epoch: 7 loss:0.0543 time:29.6754\n",
      "epoch: 8 loss:0.0661 time:29.6683\n",
      "epoch: 9 loss:0.0881 time:29.6646\n",
      "epoch:10 loss:0.0880 time:29.6771\n",
      "epoch:11 loss:0.0355 time:29.6974\n",
      "epoch:12 loss:0.0489 time:29.6862\n",
      "epoch:13 loss:0.0428 time:29.6830\n",
      "epoch:14 loss:0.0112 time:29.6648\n",
      "epoch:15 loss:0.0519 time:29.7088\n",
      "epoch:16 loss:0.0892 time:29.6524\n",
      "epoch:17 loss:0.0155 time:29.6584\n",
      "epoch:18 loss:0.0638 time:29.6804\n",
      "epoch:19 loss:0.0670 time:29.6850\n",
      "epoch:20 loss:0.0179 time:29.6758\n"
     ]
    }
   ],
   "source": [
    "# 训练\n",
    "model.train()\n",
    "for epoch in range(EPOCH):\n",
    "    start_time = time.time()\n",
    "    for i, data in enumerate(train_loader):\n",
    "        inputs, labels = data\n",
    "        inputs, labels = inputs.to(device), labels.to(device)\n",
    "        # 前向传播\n",
    "        outputs = model(inputs)\n",
    "        # 计算损失函数\n",
    "        loss = criterion(outputs, labels)\n",
    "        # 清空上一轮梯度\n",
    "        optimizer.zero_grad()\n",
    "        # 反向传播\n",
    "        loss.backward()\n",
    "        # 参数更新\n",
    "        optimizer.step()\n",
    "    print('epoch:{:2} loss:{:.4f} time:{:.4f}'.format(epoch+1, loss.item(), time.time()-start_time))"
   ]
  },
  {
   "cell_type": "code",
   "execution_count": 15,
   "metadata": {},
   "outputs": [
    {
     "name": "stdout",
     "output_type": "stream",
     "text": [
      "data/cifar10_vgg16_bn.pt saved\n"
     ]
    }
   ],
   "source": [
    "# 保存训练模型\n",
    "file_name3 = 'data/cifar10_vgg16_bn.pt'\n",
    "torch.save(model, file_name3)\n",
    "print(file_name3+' saved')"
   ]
  },
  {
   "cell_type": "code",
   "execution_count": 16,
   "metadata": {},
   "outputs": [
    {
     "name": "stdout",
     "output_type": "stream",
     "text": [
      "10000张测试图像 准确率：87.85%\n"
     ]
    }
   ],
   "source": [
    "# 测试\n",
    "model=torch.load(file_name3)\n",
    "model.eval()\n",
    "\n",
    "correct, total = 0, 0\n",
    "for data in test_loader:\n",
    "    images, labels = data\n",
    "    images, labels = images.to(device), labels.to(device)\n",
    "    # 前向传播\n",
    "    out = model(images)\n",
    "    # 预测结果\n",
    "    _, predicted = torch.max(out.data, 1)\n",
    "    # 判断预测结果与实际结果是否一致\n",
    "    total += labels.size(0)\n",
    "    correct += (predicted==labels).sum().item()\n",
    "\n",
    "# 输出识别准确率\n",
    "print(\"10000张测试图像 准确率：{:.2f}%\".format(100.0*correct/total))"
   ]
  },
  {
   "cell_type": "code",
   "execution_count": null,
   "metadata": {},
   "outputs": [],
   "source": []
  }
 ],
 "metadata": {
  "accelerator": "GPU",
  "colab": {
   "name": "20201011_L07.ipynb",
   "provenance": []
  },
  "kernelspec": {
   "display_name": "learnBI",
   "language": "python",
   "name": "learnbi"
  },
  "language_info": {
   "codemirror_mode": {
    "name": "ipython",
    "version": 3
   },
   "file_extension": ".py",
   "mimetype": "text/x-python",
   "name": "python",
   "nbconvert_exporter": "python",
   "pygments_lexer": "ipython3",
   "version": "3.6.7"
  },
  "widgets": {
   "application/vnd.jupyter.widget-state+json": {
    "1240f0cb26f54e7aa257e1bcf34da3fc": {
     "model_module": "@jupyter-widgets/controls",
     "model_name": "ProgressStyleModel",
     "state": {
      "_model_module": "@jupyter-widgets/controls",
      "_model_module_version": "1.5.0",
      "_model_name": "ProgressStyleModel",
      "_view_count": null,
      "_view_module": "@jupyter-widgets/base",
      "_view_module_version": "1.2.0",
      "_view_name": "StyleView",
      "bar_color": null,
      "description_width": "initial"
     }
    },
    "15f476ca55184876ab99b86cb86fe52a": {
     "model_module": "@jupyter-widgets/controls",
     "model_name": "DescriptionStyleModel",
     "state": {
      "_model_module": "@jupyter-widgets/controls",
      "_model_module_version": "1.5.0",
      "_model_name": "DescriptionStyleModel",
      "_view_count": null,
      "_view_module": "@jupyter-widgets/base",
      "_view_module_version": "1.2.0",
      "_view_name": "StyleView",
      "description_width": ""
     }
    },
    "19e94c6a8f2f42c99d1fee3cdbce9461": {
     "model_module": "@jupyter-widgets/base",
     "model_name": "LayoutModel",
     "state": {
      "_model_module": "@jupyter-widgets/base",
      "_model_module_version": "1.2.0",
      "_model_name": "LayoutModel",
      "_view_count": null,
      "_view_module": "@jupyter-widgets/base",
      "_view_module_version": "1.2.0",
      "_view_name": "LayoutView",
      "align_content": null,
      "align_items": null,
      "align_self": null,
      "border": null,
      "bottom": null,
      "display": null,
      "flex": null,
      "flex_flow": null,
      "grid_area": null,
      "grid_auto_columns": null,
      "grid_auto_flow": null,
      "grid_auto_rows": null,
      "grid_column": null,
      "grid_gap": null,
      "grid_row": null,
      "grid_template_areas": null,
      "grid_template_columns": null,
      "grid_template_rows": null,
      "height": null,
      "justify_content": null,
      "justify_items": null,
      "left": null,
      "margin": null,
      "max_height": null,
      "max_width": null,
      "min_height": null,
      "min_width": null,
      "object_fit": null,
      "object_position": null,
      "order": null,
      "overflow": null,
      "overflow_x": null,
      "overflow_y": null,
      "padding": null,
      "right": null,
      "top": null,
      "visibility": null,
      "width": null
     }
    },
    "217f2b9062bd4171b933ba43e96004d2": {
     "model_module": "@jupyter-widgets/base",
     "model_name": "LayoutModel",
     "state": {
      "_model_module": "@jupyter-widgets/base",
      "_model_module_version": "1.2.0",
      "_model_name": "LayoutModel",
      "_view_count": null,
      "_view_module": "@jupyter-widgets/base",
      "_view_module_version": "1.2.0",
      "_view_name": "LayoutView",
      "align_content": null,
      "align_items": null,
      "align_self": null,
      "border": null,
      "bottom": null,
      "display": null,
      "flex": null,
      "flex_flow": null,
      "grid_area": null,
      "grid_auto_columns": null,
      "grid_auto_flow": null,
      "grid_auto_rows": null,
      "grid_column": null,
      "grid_gap": null,
      "grid_row": null,
      "grid_template_areas": null,
      "grid_template_columns": null,
      "grid_template_rows": null,
      "height": null,
      "justify_content": null,
      "justify_items": null,
      "left": null,
      "margin": null,
      "max_height": null,
      "max_width": null,
      "min_height": null,
      "min_width": null,
      "object_fit": null,
      "object_position": null,
      "order": null,
      "overflow": null,
      "overflow_x": null,
      "overflow_y": null,
      "padding": null,
      "right": null,
      "top": null,
      "visibility": null,
      "width": null
     }
    },
    "36dee511c8f14744adc2171396eda611": {
     "model_module": "@jupyter-widgets/controls",
     "model_name": "HTMLModel",
     "state": {
      "_dom_classes": [],
      "_model_module": "@jupyter-widgets/controls",
      "_model_module_version": "1.5.0",
      "_model_name": "HTMLModel",
      "_view_count": null,
      "_view_module": "@jupyter-widgets/controls",
      "_view_module_version": "1.5.0",
      "_view_name": "HTMLView",
      "description": "",
      "description_tooltip": null,
      "layout": "IPY_MODEL_217f2b9062bd4171b933ba43e96004d2",
      "placeholder": "​",
      "style": "IPY_MODEL_e90b717a50114747a7089be9315b7972",
      "value": " 170500096/? [00:40&lt;00:00, 28530464.28it/s]"
     }
    },
    "3fda94a658d04f0ba83282d65f2fc313": {
     "model_module": "@jupyter-widgets/controls",
     "model_name": "FloatProgressModel",
     "state": {
      "_dom_classes": [],
      "_model_module": "@jupyter-widgets/controls",
      "_model_module_version": "1.5.0",
      "_model_name": "FloatProgressModel",
      "_view_count": null,
      "_view_module": "@jupyter-widgets/controls",
      "_view_module_version": "1.5.0",
      "_view_name": "ProgressView",
      "bar_style": "success",
      "description": "100%",
      "description_tooltip": null,
      "layout": "IPY_MODEL_7fb1307db63c4cc6a34e3c3f56e42d5b",
      "max": 241530880,
      "min": 0,
      "orientation": "horizontal",
      "style": "IPY_MODEL_703f8e44894140f2a866cc2c4e997a13",
      "value": 241530880
     }
    },
    "4738f610cdc0458fbfb858ab093c4b46": {
     "model_module": "@jupyter-widgets/controls",
     "model_name": "FloatProgressModel",
     "state": {
      "_dom_classes": [],
      "_model_module": "@jupyter-widgets/controls",
      "_model_module_version": "1.5.0",
      "_model_name": "FloatProgressModel",
      "_view_count": null,
      "_view_module": "@jupyter-widgets/controls",
      "_view_module_version": "1.5.0",
      "_view_name": "ProgressView",
      "bar_style": "info",
      "description": "",
      "description_tooltip": null,
      "layout": "IPY_MODEL_19e94c6a8f2f42c99d1fee3cdbce9461",
      "max": 1,
      "min": 0,
      "orientation": "horizontal",
      "style": "IPY_MODEL_1240f0cb26f54e7aa257e1bcf34da3fc",
      "value": 1
     }
    },
    "6cd95e31f9b041149f7f29eab6d81964": {
     "model_module": "@jupyter-widgets/controls",
     "model_name": "HTMLModel",
     "state": {
      "_dom_classes": [],
      "_model_module": "@jupyter-widgets/controls",
      "_model_module_version": "1.5.0",
      "_model_name": "HTMLModel",
      "_view_count": null,
      "_view_module": "@jupyter-widgets/controls",
      "_view_module_version": "1.5.0",
      "_view_name": "HTMLView",
      "description": "",
      "description_tooltip": null,
      "layout": "IPY_MODEL_f1dc5c2dba434c51b9607907e4913a0d",
      "placeholder": "​",
      "style": "IPY_MODEL_15f476ca55184876ab99b86cb86fe52a",
      "value": " 230M/230M [00:01&lt;00:00, 132MB/s]"
     }
    },
    "703f8e44894140f2a866cc2c4e997a13": {
     "model_module": "@jupyter-widgets/controls",
     "model_name": "ProgressStyleModel",
     "state": {
      "_model_module": "@jupyter-widgets/controls",
      "_model_module_version": "1.5.0",
      "_model_name": "ProgressStyleModel",
      "_view_count": null,
      "_view_module": "@jupyter-widgets/base",
      "_view_module_version": "1.2.0",
      "_view_name": "StyleView",
      "bar_color": null,
      "description_width": "initial"
     }
    },
    "70d8ce2b739e40179b70acb7748ee7b6": {
     "model_module": "@jupyter-widgets/base",
     "model_name": "LayoutModel",
     "state": {
      "_model_module": "@jupyter-widgets/base",
      "_model_module_version": "1.2.0",
      "_model_name": "LayoutModel",
      "_view_count": null,
      "_view_module": "@jupyter-widgets/base",
      "_view_module_version": "1.2.0",
      "_view_name": "LayoutView",
      "align_content": null,
      "align_items": null,
      "align_self": null,
      "border": null,
      "bottom": null,
      "display": null,
      "flex": null,
      "flex_flow": null,
      "grid_area": null,
      "grid_auto_columns": null,
      "grid_auto_flow": null,
      "grid_auto_rows": null,
      "grid_column": null,
      "grid_gap": null,
      "grid_row": null,
      "grid_template_areas": null,
      "grid_template_columns": null,
      "grid_template_rows": null,
      "height": null,
      "justify_content": null,
      "justify_items": null,
      "left": null,
      "margin": null,
      "max_height": null,
      "max_width": null,
      "min_height": null,
      "min_width": null,
      "object_fit": null,
      "object_position": null,
      "order": null,
      "overflow": null,
      "overflow_x": null,
      "overflow_y": null,
      "padding": null,
      "right": null,
      "top": null,
      "visibility": null,
      "width": null
     }
    },
    "7fb1307db63c4cc6a34e3c3f56e42d5b": {
     "model_module": "@jupyter-widgets/base",
     "model_name": "LayoutModel",
     "state": {
      "_model_module": "@jupyter-widgets/base",
      "_model_module_version": "1.2.0",
      "_model_name": "LayoutModel",
      "_view_count": null,
      "_view_module": "@jupyter-widgets/base",
      "_view_module_version": "1.2.0",
      "_view_name": "LayoutView",
      "align_content": null,
      "align_items": null,
      "align_self": null,
      "border": null,
      "bottom": null,
      "display": null,
      "flex": null,
      "flex_flow": null,
      "grid_area": null,
      "grid_auto_columns": null,
      "grid_auto_flow": null,
      "grid_auto_rows": null,
      "grid_column": null,
      "grid_gap": null,
      "grid_row": null,
      "grid_template_areas": null,
      "grid_template_columns": null,
      "grid_template_rows": null,
      "height": null,
      "justify_content": null,
      "justify_items": null,
      "left": null,
      "margin": null,
      "max_height": null,
      "max_width": null,
      "min_height": null,
      "min_width": null,
      "object_fit": null,
      "object_position": null,
      "order": null,
      "overflow": null,
      "overflow_x": null,
      "overflow_y": null,
      "padding": null,
      "right": null,
      "top": null,
      "visibility": null,
      "width": null
     }
    },
    "9d24860fd31a4c99a9f0305fce4fd50b": {
     "model_module": "@jupyter-widgets/base",
     "model_name": "LayoutModel",
     "state": {
      "_model_module": "@jupyter-widgets/base",
      "_model_module_version": "1.2.0",
      "_model_name": "LayoutModel",
      "_view_count": null,
      "_view_module": "@jupyter-widgets/base",
      "_view_module_version": "1.2.0",
      "_view_name": "LayoutView",
      "align_content": null,
      "align_items": null,
      "align_self": null,
      "border": null,
      "bottom": null,
      "display": null,
      "flex": null,
      "flex_flow": null,
      "grid_area": null,
      "grid_auto_columns": null,
      "grid_auto_flow": null,
      "grid_auto_rows": null,
      "grid_column": null,
      "grid_gap": null,
      "grid_row": null,
      "grid_template_areas": null,
      "grid_template_columns": null,
      "grid_template_rows": null,
      "height": null,
      "justify_content": null,
      "justify_items": null,
      "left": null,
      "margin": null,
      "max_height": null,
      "max_width": null,
      "min_height": null,
      "min_width": null,
      "object_fit": null,
      "object_position": null,
      "order": null,
      "overflow": null,
      "overflow_x": null,
      "overflow_y": null,
      "padding": null,
      "right": null,
      "top": null,
      "visibility": null,
      "width": null
     }
    },
    "e90b717a50114747a7089be9315b7972": {
     "model_module": "@jupyter-widgets/controls",
     "model_name": "DescriptionStyleModel",
     "state": {
      "_model_module": "@jupyter-widgets/controls",
      "_model_module_version": "1.5.0",
      "_model_name": "DescriptionStyleModel",
      "_view_count": null,
      "_view_module": "@jupyter-widgets/base",
      "_view_module_version": "1.2.0",
      "_view_name": "StyleView",
      "description_width": ""
     }
    },
    "eef5afa364a84ff69e1a8f241907bb7b": {
     "model_module": "@jupyter-widgets/controls",
     "model_name": "HBoxModel",
     "state": {
      "_dom_classes": [],
      "_model_module": "@jupyter-widgets/controls",
      "_model_module_version": "1.5.0",
      "_model_name": "HBoxModel",
      "_view_count": null,
      "_view_module": "@jupyter-widgets/controls",
      "_view_module_version": "1.5.0",
      "_view_name": "HBoxView",
      "box_style": "",
      "children": [
       "IPY_MODEL_4738f610cdc0458fbfb858ab093c4b46",
       "IPY_MODEL_36dee511c8f14744adc2171396eda611"
      ],
      "layout": "IPY_MODEL_70d8ce2b739e40179b70acb7748ee7b6"
     }
    },
    "f0349af4dce54578829c165c367e144d": {
     "model_module": "@jupyter-widgets/controls",
     "model_name": "HBoxModel",
     "state": {
      "_dom_classes": [],
      "_model_module": "@jupyter-widgets/controls",
      "_model_module_version": "1.5.0",
      "_model_name": "HBoxModel",
      "_view_count": null,
      "_view_module": "@jupyter-widgets/controls",
      "_view_module_version": "1.5.0",
      "_view_name": "HBoxView",
      "box_style": "",
      "children": [
       "IPY_MODEL_3fda94a658d04f0ba83282d65f2fc313",
       "IPY_MODEL_6cd95e31f9b041149f7f29eab6d81964"
      ],
      "layout": "IPY_MODEL_9d24860fd31a4c99a9f0305fce4fd50b"
     }
    },
    "f1dc5c2dba434c51b9607907e4913a0d": {
     "model_module": "@jupyter-widgets/base",
     "model_name": "LayoutModel",
     "state": {
      "_model_module": "@jupyter-widgets/base",
      "_model_module_version": "1.2.0",
      "_model_name": "LayoutModel",
      "_view_count": null,
      "_view_module": "@jupyter-widgets/base",
      "_view_module_version": "1.2.0",
      "_view_name": "LayoutView",
      "align_content": null,
      "align_items": null,
      "align_self": null,
      "border": null,
      "bottom": null,
      "display": null,
      "flex": null,
      "flex_flow": null,
      "grid_area": null,
      "grid_auto_columns": null,
      "grid_auto_flow": null,
      "grid_auto_rows": null,
      "grid_column": null,
      "grid_gap": null,
      "grid_row": null,
      "grid_template_areas": null,
      "grid_template_columns": null,
      "grid_template_rows": null,
      "height": null,
      "justify_content": null,
      "justify_items": null,
      "left": null,
      "margin": null,
      "max_height": null,
      "max_width": null,
      "min_height": null,
      "min_width": null,
      "object_fit": null,
      "object_position": null,
      "order": null,
      "overflow": null,
      "overflow_x": null,
      "overflow_y": null,
      "padding": null,
      "right": null,
      "top": null,
      "visibility": null,
      "width": null
     }
    }
   }
  }
 },
 "nbformat": 4,
 "nbformat_minor": 4
}
